{
  "cells": [
    {
      "cell_type": "markdown",
      "metadata": {
        "id": "view-in-github",
        "colab_type": "text"
      },
      "source": [
        "<a href=\"https://colab.research.google.com/github/MarlonSerrano/Estudo-de-classifica-o_de_fraude/blob/main/Projetos_de_classifica%C3%A7%C3%A3o.ipynb\" target=\"_parent\"><img src=\"https://colab.research.google.com/assets/colab-badge.svg\" alt=\"Open In Colab\"/></a>"
      ]
    },
    {
      "cell_type": "code",
      "source": [
        "from google.colab import drive\n",
        "drive.mount('/content/drive')"
      ],
      "metadata": {
        "colab": {
          "base_uri": "https://localhost:8080/"
        },
        "id": "Hy2PL4327tyT",
        "outputId": "9eb67c58-fd3b-4d19-b30d-62525a27a393"
      },
      "id": "Hy2PL4327tyT",
      "execution_count": null,
      "outputs": [
        {
          "output_type": "stream",
          "name": "stdout",
          "text": [
            "Drive already mounted at /content/drive; to attempt to forcibly remount, call drive.mount(\"/content/drive\", force_remount=True).\n"
          ]
        }
      ]
    },
    {
      "cell_type": "markdown",
      "id": "150f09a3",
      "metadata": {
        "id": "150f09a3"
      },
      "source": [
        "## Bibliotecas uitlizadas"
      ]
    },
    {
      "cell_type": "code",
      "execution_count": null,
      "id": "affafde8",
      "metadata": {
        "id": "affafde8"
      },
      "outputs": [],
      "source": [
        "\n",
        "import pandas as pd\n",
        "import seaborn as sns\n",
        "import matplotlib.pyplot as plt\n",
        "from sklearn import model_selection\n",
        "# Bibliotecas de modelos\n",
        "from sklearn.neighbors import KNeighborsClassifier\n",
        "from sklearn.linear_model import LogisticRegression\n",
        "from sklearn.svm import SVC\n",
        "# Biblioteca de preprocessamento\n",
        "from imblearn.over_sampling import SMOTE\n",
        "from sklearn.preprocessing import Normalizer,StandardScaler\n",
        "# Biblioteca de analise de resultados\n",
        "from sklearn.model_selection import train_test_split\n",
        "from sklearn.metrics import confusion_matrix\n",
        "from sklearn.metrics import  classification_report"
      ]
    },
    {
      "cell_type": "markdown",
      "id": "37563e4a",
      "metadata": {
        "id": "37563e4a"
      },
      "source": [
        "## Carregamento dos dados"
      ]
    },
    {
      "cell_type": "code",
      "execution_count": null,
      "id": "71404068",
      "metadata": {
        "id": "71404068"
      },
      "outputs": [],
      "source": [
        "df = pd.read_csv('/content/drive/MyDrive/Colab Notebooks/Meus Projetos/card_transdata.csv')"
      ]
    },
    {
      "cell_type": "markdown",
      "id": "3765ee1c",
      "metadata": {
        "id": "3765ee1c"
      },
      "source": [
        "## Análise Exploratoria dos dados"
      ]
    },
    {
      "cell_type": "code",
      "execution_count": null,
      "id": "722de284",
      "metadata": {
        "colab": {
          "base_uri": "https://localhost:8080/",
          "height": 677
        },
        "id": "722de284",
        "outputId": "e7e6be88-d14b-4854-a3b5-b2b67d4f0786"
      },
      "outputs": [
        {
          "output_type": "execute_result",
          "data": {
            "text/plain": [
              "    distance_from_home  distance_from_last_transaction  \\\n",
              "0            57.877857                        0.311140   \n",
              "1            10.829943                        0.175592   \n",
              "2             5.091079                        0.805153   \n",
              "3             2.247564                        5.600044   \n",
              "4            44.190936                        0.566486   \n",
              "5             5.586408                       13.261073   \n",
              "6             3.724019                        0.956838   \n",
              "7             4.848247                        0.320735   \n",
              "8             0.876632                        2.503609   \n",
              "9             8.839047                        2.970512   \n",
              "10           14.263530                        0.158758   \n",
              "11           13.592368                        0.240540   \n",
              "12          765.282559                        0.371562   \n",
              "13            2.131956                       56.372401   \n",
              "14           13.955972                        0.271522   \n",
              "15          179.665148                        0.120920   \n",
              "16          114.519789                        0.707003   \n",
              "17            3.589649                        6.247458   \n",
              "18           11.085152                       34.661351   \n",
              "19            6.194671                        1.142014   \n",
              "\n",
              "    ratio_to_median_purchase_price  repeat_retailer  used_chip  \\\n",
              "0                         1.945940              1.0        1.0   \n",
              "1                         1.294219              1.0        0.0   \n",
              "2                         0.427715              1.0        0.0   \n",
              "3                         0.362663              1.0        1.0   \n",
              "4                         2.222767              1.0        1.0   \n",
              "5                         0.064768              1.0        0.0   \n",
              "6                         0.278465              1.0        0.0   \n",
              "7                         1.273050              1.0        0.0   \n",
              "8                         1.516999              0.0        0.0   \n",
              "9                         2.361683              1.0        0.0   \n",
              "10                        1.136102              1.0        1.0   \n",
              "11                        1.370330              1.0        1.0   \n",
              "12                        0.551245              1.0        1.0   \n",
              "13                        6.358667              1.0        0.0   \n",
              "14                        2.798901              1.0        0.0   \n",
              "15                        0.535640              1.0        1.0   \n",
              "16                        0.516990              1.0        0.0   \n",
              "17                        1.846451              1.0        0.0   \n",
              "18                        2.530758              1.0        0.0   \n",
              "19                        0.307217              1.0        0.0   \n",
              "\n",
              "    used_pin_number  online_order  fraud  \n",
              "0               0.0           0.0    0.0  \n",
              "1               0.0           0.0    0.0  \n",
              "2               0.0           1.0    0.0  \n",
              "3               0.0           1.0    0.0  \n",
              "4               0.0           1.0    0.0  \n",
              "5               0.0           0.0    0.0  \n",
              "6               0.0           1.0    0.0  \n",
              "7               1.0           0.0    0.0  \n",
              "8               0.0           0.0    0.0  \n",
              "9               0.0           1.0    0.0  \n",
              "10              0.0           1.0    0.0  \n",
              "11              0.0           1.0    0.0  \n",
              "12              0.0           0.0    0.0  \n",
              "13              0.0           1.0    1.0  \n",
              "14              0.0           1.0    0.0  \n",
              "15              1.0           1.0    0.0  \n",
              "16              0.0           0.0    0.0  \n",
              "17              0.0           0.0    0.0  \n",
              "18              0.0           1.0    0.0  \n",
              "19              0.0           0.0    0.0  "
            ],
            "text/html": [
              "\n",
              "  <div id=\"df-a3dca943-b8f6-4b54-93dd-e89bf52b7a4e\">\n",
              "    <div class=\"colab-df-container\">\n",
              "      <div>\n",
              "<style scoped>\n",
              "    .dataframe tbody tr th:only-of-type {\n",
              "        vertical-align: middle;\n",
              "    }\n",
              "\n",
              "    .dataframe tbody tr th {\n",
              "        vertical-align: top;\n",
              "    }\n",
              "\n",
              "    .dataframe thead th {\n",
              "        text-align: right;\n",
              "    }\n",
              "</style>\n",
              "<table border=\"1\" class=\"dataframe\">\n",
              "  <thead>\n",
              "    <tr style=\"text-align: right;\">\n",
              "      <th></th>\n",
              "      <th>distance_from_home</th>\n",
              "      <th>distance_from_last_transaction</th>\n",
              "      <th>ratio_to_median_purchase_price</th>\n",
              "      <th>repeat_retailer</th>\n",
              "      <th>used_chip</th>\n",
              "      <th>used_pin_number</th>\n",
              "      <th>online_order</th>\n",
              "      <th>fraud</th>\n",
              "    </tr>\n",
              "  </thead>\n",
              "  <tbody>\n",
              "    <tr>\n",
              "      <th>0</th>\n",
              "      <td>57.877857</td>\n",
              "      <td>0.311140</td>\n",
              "      <td>1.945940</td>\n",
              "      <td>1.0</td>\n",
              "      <td>1.0</td>\n",
              "      <td>0.0</td>\n",
              "      <td>0.0</td>\n",
              "      <td>0.0</td>\n",
              "    </tr>\n",
              "    <tr>\n",
              "      <th>1</th>\n",
              "      <td>10.829943</td>\n",
              "      <td>0.175592</td>\n",
              "      <td>1.294219</td>\n",
              "      <td>1.0</td>\n",
              "      <td>0.0</td>\n",
              "      <td>0.0</td>\n",
              "      <td>0.0</td>\n",
              "      <td>0.0</td>\n",
              "    </tr>\n",
              "    <tr>\n",
              "      <th>2</th>\n",
              "      <td>5.091079</td>\n",
              "      <td>0.805153</td>\n",
              "      <td>0.427715</td>\n",
              "      <td>1.0</td>\n",
              "      <td>0.0</td>\n",
              "      <td>0.0</td>\n",
              "      <td>1.0</td>\n",
              "      <td>0.0</td>\n",
              "    </tr>\n",
              "    <tr>\n",
              "      <th>3</th>\n",
              "      <td>2.247564</td>\n",
              "      <td>5.600044</td>\n",
              "      <td>0.362663</td>\n",
              "      <td>1.0</td>\n",
              "      <td>1.0</td>\n",
              "      <td>0.0</td>\n",
              "      <td>1.0</td>\n",
              "      <td>0.0</td>\n",
              "    </tr>\n",
              "    <tr>\n",
              "      <th>4</th>\n",
              "      <td>44.190936</td>\n",
              "      <td>0.566486</td>\n",
              "      <td>2.222767</td>\n",
              "      <td>1.0</td>\n",
              "      <td>1.0</td>\n",
              "      <td>0.0</td>\n",
              "      <td>1.0</td>\n",
              "      <td>0.0</td>\n",
              "    </tr>\n",
              "    <tr>\n",
              "      <th>5</th>\n",
              "      <td>5.586408</td>\n",
              "      <td>13.261073</td>\n",
              "      <td>0.064768</td>\n",
              "      <td>1.0</td>\n",
              "      <td>0.0</td>\n",
              "      <td>0.0</td>\n",
              "      <td>0.0</td>\n",
              "      <td>0.0</td>\n",
              "    </tr>\n",
              "    <tr>\n",
              "      <th>6</th>\n",
              "      <td>3.724019</td>\n",
              "      <td>0.956838</td>\n",
              "      <td>0.278465</td>\n",
              "      <td>1.0</td>\n",
              "      <td>0.0</td>\n",
              "      <td>0.0</td>\n",
              "      <td>1.0</td>\n",
              "      <td>0.0</td>\n",
              "    </tr>\n",
              "    <tr>\n",
              "      <th>7</th>\n",
              "      <td>4.848247</td>\n",
              "      <td>0.320735</td>\n",
              "      <td>1.273050</td>\n",
              "      <td>1.0</td>\n",
              "      <td>0.0</td>\n",
              "      <td>1.0</td>\n",
              "      <td>0.0</td>\n",
              "      <td>0.0</td>\n",
              "    </tr>\n",
              "    <tr>\n",
              "      <th>8</th>\n",
              "      <td>0.876632</td>\n",
              "      <td>2.503609</td>\n",
              "      <td>1.516999</td>\n",
              "      <td>0.0</td>\n",
              "      <td>0.0</td>\n",
              "      <td>0.0</td>\n",
              "      <td>0.0</td>\n",
              "      <td>0.0</td>\n",
              "    </tr>\n",
              "    <tr>\n",
              "      <th>9</th>\n",
              "      <td>8.839047</td>\n",
              "      <td>2.970512</td>\n",
              "      <td>2.361683</td>\n",
              "      <td>1.0</td>\n",
              "      <td>0.0</td>\n",
              "      <td>0.0</td>\n",
              "      <td>1.0</td>\n",
              "      <td>0.0</td>\n",
              "    </tr>\n",
              "    <tr>\n",
              "      <th>10</th>\n",
              "      <td>14.263530</td>\n",
              "      <td>0.158758</td>\n",
              "      <td>1.136102</td>\n",
              "      <td>1.0</td>\n",
              "      <td>1.0</td>\n",
              "      <td>0.0</td>\n",
              "      <td>1.0</td>\n",
              "      <td>0.0</td>\n",
              "    </tr>\n",
              "    <tr>\n",
              "      <th>11</th>\n",
              "      <td>13.592368</td>\n",
              "      <td>0.240540</td>\n",
              "      <td>1.370330</td>\n",
              "      <td>1.0</td>\n",
              "      <td>1.0</td>\n",
              "      <td>0.0</td>\n",
              "      <td>1.0</td>\n",
              "      <td>0.0</td>\n",
              "    </tr>\n",
              "    <tr>\n",
              "      <th>12</th>\n",
              "      <td>765.282559</td>\n",
              "      <td>0.371562</td>\n",
              "      <td>0.551245</td>\n",
              "      <td>1.0</td>\n",
              "      <td>1.0</td>\n",
              "      <td>0.0</td>\n",
              "      <td>0.0</td>\n",
              "      <td>0.0</td>\n",
              "    </tr>\n",
              "    <tr>\n",
              "      <th>13</th>\n",
              "      <td>2.131956</td>\n",
              "      <td>56.372401</td>\n",
              "      <td>6.358667</td>\n",
              "      <td>1.0</td>\n",
              "      <td>0.0</td>\n",
              "      <td>0.0</td>\n",
              "      <td>1.0</td>\n",
              "      <td>1.0</td>\n",
              "    </tr>\n",
              "    <tr>\n",
              "      <th>14</th>\n",
              "      <td>13.955972</td>\n",
              "      <td>0.271522</td>\n",
              "      <td>2.798901</td>\n",
              "      <td>1.0</td>\n",
              "      <td>0.0</td>\n",
              "      <td>0.0</td>\n",
              "      <td>1.0</td>\n",
              "      <td>0.0</td>\n",
              "    </tr>\n",
              "    <tr>\n",
              "      <th>15</th>\n",
              "      <td>179.665148</td>\n",
              "      <td>0.120920</td>\n",
              "      <td>0.535640</td>\n",
              "      <td>1.0</td>\n",
              "      <td>1.0</td>\n",
              "      <td>1.0</td>\n",
              "      <td>1.0</td>\n",
              "      <td>0.0</td>\n",
              "    </tr>\n",
              "    <tr>\n",
              "      <th>16</th>\n",
              "      <td>114.519789</td>\n",
              "      <td>0.707003</td>\n",
              "      <td>0.516990</td>\n",
              "      <td>1.0</td>\n",
              "      <td>0.0</td>\n",
              "      <td>0.0</td>\n",
              "      <td>0.0</td>\n",
              "      <td>0.0</td>\n",
              "    </tr>\n",
              "    <tr>\n",
              "      <th>17</th>\n",
              "      <td>3.589649</td>\n",
              "      <td>6.247458</td>\n",
              "      <td>1.846451</td>\n",
              "      <td>1.0</td>\n",
              "      <td>0.0</td>\n",
              "      <td>0.0</td>\n",
              "      <td>0.0</td>\n",
              "      <td>0.0</td>\n",
              "    </tr>\n",
              "    <tr>\n",
              "      <th>18</th>\n",
              "      <td>11.085152</td>\n",
              "      <td>34.661351</td>\n",
              "      <td>2.530758</td>\n",
              "      <td>1.0</td>\n",
              "      <td>0.0</td>\n",
              "      <td>0.0</td>\n",
              "      <td>1.0</td>\n",
              "      <td>0.0</td>\n",
              "    </tr>\n",
              "    <tr>\n",
              "      <th>19</th>\n",
              "      <td>6.194671</td>\n",
              "      <td>1.142014</td>\n",
              "      <td>0.307217</td>\n",
              "      <td>1.0</td>\n",
              "      <td>0.0</td>\n",
              "      <td>0.0</td>\n",
              "      <td>0.0</td>\n",
              "      <td>0.0</td>\n",
              "    </tr>\n",
              "  </tbody>\n",
              "</table>\n",
              "</div>\n",
              "      <button class=\"colab-df-convert\" onclick=\"convertToInteractive('df-a3dca943-b8f6-4b54-93dd-e89bf52b7a4e')\"\n",
              "              title=\"Convert this dataframe to an interactive table.\"\n",
              "              style=\"display:none;\">\n",
              "        \n",
              "  <svg xmlns=\"http://www.w3.org/2000/svg\" height=\"24px\"viewBox=\"0 0 24 24\"\n",
              "       width=\"24px\">\n",
              "    <path d=\"M0 0h24v24H0V0z\" fill=\"none\"/>\n",
              "    <path d=\"M18.56 5.44l.94 2.06.94-2.06 2.06-.94-2.06-.94-.94-2.06-.94 2.06-2.06.94zm-11 1L8.5 8.5l.94-2.06 2.06-.94-2.06-.94L8.5 2.5l-.94 2.06-2.06.94zm10 10l.94 2.06.94-2.06 2.06-.94-2.06-.94-.94-2.06-.94 2.06-2.06.94z\"/><path d=\"M17.41 7.96l-1.37-1.37c-.4-.4-.92-.59-1.43-.59-.52 0-1.04.2-1.43.59L10.3 9.45l-7.72 7.72c-.78.78-.78 2.05 0 2.83L4 21.41c.39.39.9.59 1.41.59.51 0 1.02-.2 1.41-.59l7.78-7.78 2.81-2.81c.8-.78.8-2.07 0-2.86zM5.41 20L4 18.59l7.72-7.72 1.47 1.35L5.41 20z\"/>\n",
              "  </svg>\n",
              "      </button>\n",
              "      \n",
              "  <style>\n",
              "    .colab-df-container {\n",
              "      display:flex;\n",
              "      flex-wrap:wrap;\n",
              "      gap: 12px;\n",
              "    }\n",
              "\n",
              "    .colab-df-convert {\n",
              "      background-color: #E8F0FE;\n",
              "      border: none;\n",
              "      border-radius: 50%;\n",
              "      cursor: pointer;\n",
              "      display: none;\n",
              "      fill: #1967D2;\n",
              "      height: 32px;\n",
              "      padding: 0 0 0 0;\n",
              "      width: 32px;\n",
              "    }\n",
              "\n",
              "    .colab-df-convert:hover {\n",
              "      background-color: #E2EBFA;\n",
              "      box-shadow: 0px 1px 2px rgba(60, 64, 67, 0.3), 0px 1px 3px 1px rgba(60, 64, 67, 0.15);\n",
              "      fill: #174EA6;\n",
              "    }\n",
              "\n",
              "    [theme=dark] .colab-df-convert {\n",
              "      background-color: #3B4455;\n",
              "      fill: #D2E3FC;\n",
              "    }\n",
              "\n",
              "    [theme=dark] .colab-df-convert:hover {\n",
              "      background-color: #434B5C;\n",
              "      box-shadow: 0px 1px 3px 1px rgba(0, 0, 0, 0.15);\n",
              "      filter: drop-shadow(0px 1px 2px rgba(0, 0, 0, 0.3));\n",
              "      fill: #FFFFFF;\n",
              "    }\n",
              "  </style>\n",
              "\n",
              "      <script>\n",
              "        const buttonEl =\n",
              "          document.querySelector('#df-a3dca943-b8f6-4b54-93dd-e89bf52b7a4e button.colab-df-convert');\n",
              "        buttonEl.style.display =\n",
              "          google.colab.kernel.accessAllowed ? 'block' : 'none';\n",
              "\n",
              "        async function convertToInteractive(key) {\n",
              "          const element = document.querySelector('#df-a3dca943-b8f6-4b54-93dd-e89bf52b7a4e');\n",
              "          const dataTable =\n",
              "            await google.colab.kernel.invokeFunction('convertToInteractive',\n",
              "                                                     [key], {});\n",
              "          if (!dataTable) return;\n",
              "\n",
              "          const docLinkHtml = 'Like what you see? Visit the ' +\n",
              "            '<a target=\"_blank\" href=https://colab.research.google.com/notebooks/data_table.ipynb>data table notebook</a>'\n",
              "            + ' to learn more about interactive tables.';\n",
              "          element.innerHTML = '';\n",
              "          dataTable['output_type'] = 'display_data';\n",
              "          await google.colab.output.renderOutput(dataTable, element);\n",
              "          const docLink = document.createElement('div');\n",
              "          docLink.innerHTML = docLinkHtml;\n",
              "          element.appendChild(docLink);\n",
              "        }\n",
              "      </script>\n",
              "    </div>\n",
              "  </div>\n",
              "  "
            ]
          },
          "metadata": {},
          "execution_count": 4
        }
      ],
      "source": [
        "df.head(20)"
      ]
    },
    {
      "cell_type": "code",
      "execution_count": null,
      "id": "ad76ed3b",
      "metadata": {
        "colab": {
          "base_uri": "https://localhost:8080/"
        },
        "id": "ad76ed3b",
        "outputId": "f6ac3dbf-442e-47c8-99a8-6019ab604d2b"
      },
      "outputs": [
        {
          "output_type": "execute_result",
          "data": {
            "text/plain": [
              "(1000000, 8)"
            ]
          },
          "metadata": {},
          "execution_count": 5
        }
      ],
      "source": [
        "df.shape # Visualização das dimensões"
      ]
    },
    {
      "cell_type": "code",
      "execution_count": null,
      "id": "e252cd98",
      "metadata": {
        "colab": {
          "base_uri": "https://localhost:8080/"
        },
        "id": "e252cd98",
        "outputId": "641e34b4-e122-4392-d09c-96a134cce0c3"
      },
      "outputs": [
        {
          "output_type": "execute_result",
          "data": {
            "text/plain": [
              "distance_from_home                float64\n",
              "distance_from_last_transaction    float64\n",
              "ratio_to_median_purchase_price    float64\n",
              "repeat_retailer                   float64\n",
              "used_chip                         float64\n",
              "used_pin_number                   float64\n",
              "online_order                      float64\n",
              "fraud                             float64\n",
              "dtype: object"
            ]
          },
          "metadata": {},
          "execution_count": 6
        }
      ],
      "source": [
        "df.dtypes # Tipos de dados "
      ]
    },
    {
      "cell_type": "code",
      "execution_count": null,
      "id": "10b8612c",
      "metadata": {
        "colab": {
          "base_uri": "https://localhost:8080/"
        },
        "id": "10b8612c",
        "outputId": "8e81ef7a-4046-4ff1-e4f3-2feb2623a775"
      },
      "outputs": [
        {
          "output_type": "stream",
          "name": "stdout",
          "text": [
            "<class 'pandas.core.frame.DataFrame'>\n",
            "RangeIndex: 1000000 entries, 0 to 999999\n",
            "Data columns (total 8 columns):\n",
            " #   Column                          Non-Null Count    Dtype  \n",
            "---  ------                          --------------    -----  \n",
            " 0   distance_from_home              1000000 non-null  float64\n",
            " 1   distance_from_last_transaction  1000000 non-null  float64\n",
            " 2   ratio_to_median_purchase_price  1000000 non-null  float64\n",
            " 3   repeat_retailer                 1000000 non-null  float64\n",
            " 4   used_chip                       1000000 non-null  float64\n",
            " 5   used_pin_number                 1000000 non-null  float64\n",
            " 6   online_order                    1000000 non-null  float64\n",
            " 7   fraud                           1000000 non-null  float64\n",
            "dtypes: float64(8)\n",
            "memory usage: 61.0 MB\n"
          ]
        }
      ],
      "source": [
        "df.info() # Verificando se existe dados faltantes na base de dados ou nulos"
      ]
    },
    {
      "cell_type": "code",
      "execution_count": null,
      "id": "59e64024",
      "metadata": {
        "colab": {
          "base_uri": "https://localhost:8080/",
          "height": 285
        },
        "id": "59e64024",
        "outputId": "23c0f492-70bf-486b-de19-2341e05acf84"
      },
      "outputs": [
        {
          "output_type": "display_data",
          "data": {
            "text/plain": [
              "<Figure size 432x288 with 1 Axes>"
            ],
            "image/png": "[encoded data removed]"
          },
          "metadata": {}
        }
      ],
      "source": [
        "\n",
        "sns.set_theme(style=\"darkgrid\")\n",
        "ax = sns.countplot(x=\"fraud\", data=df) # Existe um peso maior nas variáveis que não indicam fraude,\n",
        "                                       # Logo os dados estam desproporcionais "
      ]
    },
    {
      "cell_type": "code",
      "execution_count": null,
      "id": "cad2b0e2",
      "metadata": {
        "id": "cad2b0e2",
        "outputId": "d486ada5-cf1e-41e6-b067-5e738fa899f8",
        "colab": {
          "base_uri": "https://localhost:8080/",
          "height": 310
        }
      },
      "outputs": [
        {
          "output_type": "execute_result",
          "data": {
            "text/plain": [
              "<seaborn.axisgrid.FacetGrid at 0x7f3c33da6310>"
            ]
          },
          "metadata": {},
          "execution_count": 9
        },
        {
          "output_type": "display_data",
          "data": {
            "text/plain": [
              "<Figure size 403.2x288 with 2 Axes>"
            ],
            "image/png": "[encoded data removed]"
          },
          "metadata": {}
        }
      ],
      "source": [
        "sns.catplot(x=\"fraud\", col=\"used_chip\",   # ao comparar se a pessoa faz transação com chip, percebesse que o fato de não usar\n",
        "                data=df, kind=\"count\",    # pode ser um indicio de fraude.\n",
        "                height=4, aspect=.7)"
      ]
    },
    {
      "cell_type": "code",
      "execution_count": null,
      "id": "3cfdc217",
      "metadata": {
        "id": "3cfdc217",
        "outputId": "6f614a40-4a19-48e4-c9db-e0c8edad3253",
        "colab": {
          "base_uri": "https://localhost:8080/",
          "height": 310
        }
      },
      "outputs": [
        {
          "output_type": "execute_result",
          "data": {
            "text/plain": [
              "<seaborn.axisgrid.FacetGrid at 0x7f3c338f0310>"
            ]
          },
          "metadata": {},
          "execution_count": 10
        },
        {
          "output_type": "display_data",
          "data": {
            "text/plain": [
              "<Figure size 403.2x288 with 2 Axes>"
            ],
            "image/png": "[encoded data removed]"
          },
          "metadata": {}
        }
      ],
      "source": [
        "sns.catplot(x=\"fraud\", col=\"repeat_retailer\",   \n",
        "                data=df, kind=\"count\",    \n",
        "                height=4, aspect=.7)\n",
        "# Ao comparar se foi feito transação do mesmo varejista o forte indicios de fraude."
      ]
    },
    {
      "cell_type": "code",
      "execution_count": null,
      "id": "a723979e",
      "metadata": {
        "id": "a723979e",
        "outputId": "c76e2637-2824-4811-e724-700e1d24f81a",
        "colab": {
          "base_uri": "https://localhost:8080/",
          "height": 310
        }
      },
      "outputs": [
        {
          "output_type": "execute_result",
          "data": {
            "text/plain": [
              "<seaborn.axisgrid.FacetGrid at 0x7f3c3387b550>"
            ]
          },
          "metadata": {},
          "execution_count": 11
        },
        {
          "output_type": "display_data",
          "data": {
            "text/plain": [
              "<Figure size 403.2x288 with 2 Axes>"
            ],
            "image/png": "[encoded data removed]"
          },
          "metadata": {}
        }
      ],
      "source": [
        "sns.catplot(x=\"fraud\", col=\"online_order\",   \n",
        "                data=df, kind=\"count\",    \n",
        "                height=4, aspect=.7)\n",
        "\n",
        "# Ao verrificar se a ordem de pagamento foi feito online, concluisse que a maior indicios de fraude quando feito ordens online."
      ]
    },
    {
      "cell_type": "code",
      "execution_count": null,
      "id": "40c521ef",
      "metadata": {
        "id": "40c521ef",
        "outputId": "d932f276-cf5e-4865-d422-4c10384f3262",
        "colab": {
          "base_uri": "https://localhost:8080/",
          "height": 310
        }
      },
      "outputs": [
        {
          "output_type": "execute_result",
          "data": {
            "text/plain": [
              "<seaborn.axisgrid.FacetGrid at 0x7f3c30ef0810>"
            ]
          },
          "metadata": {},
          "execution_count": 12
        },
        {
          "output_type": "display_data",
          "data": {
            "text/plain": [
              "<Figure size 403.2x288 with 2 Axes>"
            ],
            "image/png": "[encoded data removed]"
          },
          "metadata": {}
        }
      ],
      "source": [
        "sns.catplot(x=\"fraud\", col=\"used_pin_number\",   \n",
        "                data=df, kind=\"count\",    \n",
        "                height=4, aspect=.7)\n",
        "\n",
        "# Quando o usuário utiliza seu codigo pin o mesmo não entra na categoria de cartão fraudulento"
      ]
    },
    {
      "cell_type": "code",
      "execution_count": null,
      "id": "d497cd25",
      "metadata": {
        "id": "d497cd25",
        "outputId": "6c2f47d6-6b5f-4fd9-e6fc-7137c72ee4e7",
        "colab": {
          "base_uri": "https://localhost:8080/",
          "height": 300
        }
      },
      "outputs": [
        {
          "output_type": "execute_result",
          "data": {
            "text/plain": [
              "       distance_from_home  distance_from_last_transaction  \\\n",
              "count      1000000.000000                  1000000.000000   \n",
              "mean            26.628792                        5.036519   \n",
              "std             65.390784                       25.843093   \n",
              "min              0.004874                        0.000118   \n",
              "25%              3.878008                        0.296671   \n",
              "50%              9.967760                        0.998650   \n",
              "75%             25.743985                        3.355748   \n",
              "max          10632.723672                    11851.104565   \n",
              "\n",
              "       ratio_to_median_purchase_price  repeat_retailer       used_chip  \\\n",
              "count                  1000000.000000   1000000.000000  1000000.000000   \n",
              "mean                         1.824182         0.881536        0.350399   \n",
              "std                          2.799589         0.323157        0.477095   \n",
              "min                          0.004399         0.000000        0.000000   \n",
              "25%                          0.475673         1.000000        0.000000   \n",
              "50%                          0.997717         1.000000        0.000000   \n",
              "75%                          2.096370         1.000000        1.000000   \n",
              "max                        267.802942         1.000000        1.000000   \n",
              "\n",
              "       used_pin_number    online_order           fraud  \n",
              "count   1000000.000000  1000000.000000  1000000.000000  \n",
              "mean          0.100608        0.650552        0.087403  \n",
              "std           0.300809        0.476796        0.282425  \n",
              "min           0.000000        0.000000        0.000000  \n",
              "25%           0.000000        0.000000        0.000000  \n",
              "50%           0.000000        1.000000        0.000000  \n",
              "75%           0.000000        1.000000        0.000000  \n",
              "max           1.000000        1.000000        1.000000  "
            ],
            "text/html": [
              "\n",
              "  <div id=\"df-efb78c66-667c-46e4-8fb6-454cf2d5d953\">\n",
              "    <div class=\"colab-df-container\">\n",
              "      <div>\n",
              "<style scoped>\n",
              "    .dataframe tbody tr th:only-of-type {\n",
              "        vertical-align: middle;\n",
              "    }\n",
              "\n",
              "    .dataframe tbody tr th {\n",
              "        vertical-align: top;\n",
              "    }\n",
              "\n",
              "    .dataframe thead th {\n",
              "        text-align: right;\n",
              "    }\n",
              "</style>\n",
              "<table border=\"1\" class=\"dataframe\">\n",
              "  <thead>\n",
              "    <tr style=\"text-align: right;\">\n",
              "      <th></th>\n",
              "      <th>distance_from_home</th>\n",
              "      <th>distance_from_last_transaction</th>\n",
              "      <th>ratio_to_median_purchase_price</th>\n",
              "      <th>repeat_retailer</th>\n",
              "      <th>used_chip</th>\n",
              "      <th>used_pin_number</th>\n",
              "      <th>online_order</th>\n",
              "      <th>fraud</th>\n",
              "    </tr>\n",
              "  </thead>\n",
              "  <tbody>\n",
              "    <tr>\n",
              "      <th>count</th>\n",
              "      <td>1000000.000000</td>\n",
              "      <td>1000000.000000</td>\n",
              "      <td>1000000.000000</td>\n",
              "      <td>1000000.000000</td>\n",
              "      <td>1000000.000000</td>\n",
              "      <td>1000000.000000</td>\n",
              "      <td>1000000.000000</td>\n",
              "      <td>1000000.000000</td>\n",
              "    </tr>\n",
              "    <tr>\n",
              "      <th>mean</th>\n",
              "      <td>26.628792</td>\n",
              "      <td>5.036519</td>\n",
              "      <td>1.824182</td>\n",
              "      <td>0.881536</td>\n",
              "      <td>0.350399</td>\n",
              "      <td>0.100608</td>\n",
              "      <td>0.650552</td>\n",
              "      <td>0.087403</td>\n",
              "    </tr>\n",
              "    <tr>\n",
              "      <th>std</th>\n",
              "      <td>65.390784</td>\n",
              "      <td>25.843093</td>\n",
              "      <td>2.799589</td>\n",
              "      <td>0.323157</td>\n",
              "      <td>0.477095</td>\n",
              "      <td>0.300809</td>\n",
              "      <td>0.476796</td>\n",
              "      <td>0.282425</td>\n",
              "    </tr>\n",
              "    <tr>\n",
              "      <th>min</th>\n",
              "      <td>0.004874</td>\n",
              "      <td>0.000118</td>\n",
              "      <td>0.004399</td>\n",
              "      <td>0.000000</td>\n",
              "      <td>0.000000</td>\n",
              "      <td>0.000000</td>\n",
              "      <td>0.000000</td>\n",
              "      <td>0.000000</td>\n",
              "    </tr>\n",
              "    <tr>\n",
              "      <th>25%</th>\n",
              "      <td>3.878008</td>\n",
              "      <td>0.296671</td>\n",
              "      <td>0.475673</td>\n",
              "      <td>1.000000</td>\n",
              "      <td>0.000000</td>\n",
              "      <td>0.000000</td>\n",
              "      <td>0.000000</td>\n",
              "      <td>0.000000</td>\n",
              "    </tr>\n",
              "    <tr>\n",
              "      <th>50%</th>\n",
              "      <td>9.967760</td>\n",
              "      <td>0.998650</td>\n",
              "      <td>0.997717</td>\n",
              "      <td>1.000000</td>\n",
              "      <td>0.000000</td>\n",
              "      <td>0.000000</td>\n",
              "      <td>1.000000</td>\n",
              "      <td>0.000000</td>\n",
              "    </tr>\n",
              "    <tr>\n",
              "      <th>75%</th>\n",
              "      <td>25.743985</td>\n",
              "      <td>3.355748</td>\n",
              "      <td>2.096370</td>\n",
              "      <td>1.000000</td>\n",
              "      <td>1.000000</td>\n",
              "      <td>0.000000</td>\n",
              "      <td>1.000000</td>\n",
              "      <td>0.000000</td>\n",
              "    </tr>\n",
              "    <tr>\n",
              "      <th>max</th>\n",
              "      <td>10632.723672</td>\n",
              "      <td>11851.104565</td>\n",
              "      <td>267.802942</td>\n",
              "      <td>1.000000</td>\n",
              "      <td>1.000000</td>\n",
              "      <td>1.000000</td>\n",
              "      <td>1.000000</td>\n",
              "      <td>1.000000</td>\n",
              "    </tr>\n",
              "  </tbody>\n",
              "</table>\n",
              "</div>\n",
              "      <button class=\"colab-df-convert\" onclick=\"convertToInteractive('df-efb78c66-667c-46e4-8fb6-454cf2d5d953')\"\n",
              "              title=\"Convert this dataframe to an interactive table.\"\n",
              "              style=\"display:none;\">\n",
              "        \n",
              "  <svg xmlns=\"http://www.w3.org/2000/svg\" height=\"24px\"viewBox=\"0 0 24 24\"\n",
              "       width=\"24px\">\n",
              "    <path d=\"M0 0h24v24H0V0z\" fill=\"none\"/>\n",
              "    <path d=\"M18.56 5.44l.94 2.06.94-2.06 2.06-.94-2.06-.94-.94-2.06-.94 2.06-2.06.94zm-11 1L8.5 8.5l.94-2.06 2.06-.94-2.06-.94L8.5 2.5l-.94 2.06-2.06.94zm10 10l.94 2.06.94-2.06 2.06-.94-2.06-.94-.94-2.06-.94 2.06-2.06.94z\"/><path d=\"M17.41 7.96l-1.37-1.37c-.4-.4-.92-.59-1.43-.59-.52 0-1.04.2-1.43.59L10.3 9.45l-7.72 7.72c-.78.78-.78 2.05 0 2.83L4 21.41c.39.39.9.59 1.41.59.51 0 1.02-.2 1.41-.59l7.78-7.78 2.81-2.81c.8-.78.8-2.07 0-2.86zM5.41 20L4 18.59l7.72-7.72 1.47 1.35L5.41 20z\"/>\n",
              "  </svg>\n",
              "      </button>\n",
              "      \n",
              "  <style>\n",
              "    .colab-df-container {\n",
              "      display:flex;\n",
              "      flex-wrap:wrap;\n",
              "      gap: 12px;\n",
              "    }\n",
              "\n",
              "    .colab-df-convert {\n",
              "      background-color: #E8F0FE;\n",
              "      border: none;\n",
              "      border-radius: 50%;\n",
              "      cursor: pointer;\n",
              "      display: none;\n",
              "      fill: #1967D2;\n",
              "      height: 32px;\n",
              "      padding: 0 0 0 0;\n",
              "      width: 32px;\n",
              "    }\n",
              "\n",
              "    .colab-df-convert:hover {\n",
              "      background-color: #E2EBFA;\n",
              "      box-shadow: 0px 1px 2px rgba(60, 64, 67, 0.3), 0px 1px 3px 1px rgba(60, 64, 67, 0.15);\n",
              "      fill: #174EA6;\n",
              "    }\n",
              "\n",
              "    [theme=dark] .colab-df-convert {\n",
              "      background-color: #3B4455;\n",
              "      fill: #D2E3FC;\n",
              "    }\n",
              "\n",
              "    [theme=dark] .colab-df-convert:hover {\n",
              "      background-color: #434B5C;\n",
              "      box-shadow: 0px 1px 3px 1px rgba(0, 0, 0, 0.15);\n",
              "      filter: drop-shadow(0px 1px 2px rgba(0, 0, 0, 0.3));\n",
              "      fill: #FFFFFF;\n",
              "    }\n",
              "  </style>\n",
              "\n",
              "      <script>\n",
              "        const buttonEl =\n",
              "          document.querySelector('#df-efb78c66-667c-46e4-8fb6-454cf2d5d953 button.colab-df-convert');\n",
              "        buttonEl.style.display =\n",
              "          google.colab.kernel.accessAllowed ? 'block' : 'none';\n",
              "\n",
              "        async function convertToInteractive(key) {\n",
              "          const element = document.querySelector('#df-efb78c66-667c-46e4-8fb6-454cf2d5d953');\n",
              "          const dataTable =\n",
              "            await google.colab.kernel.invokeFunction('convertToInteractive',\n",
              "                                                     [key], {});\n",
              "          if (!dataTable) return;\n",
              "\n",
              "          const docLinkHtml = 'Like what you see? Visit the ' +\n",
              "            '<a target=\"_blank\" href=https://colab.research.google.com/notebooks/data_table.ipynb>data table notebook</a>'\n",
              "            + ' to learn more about interactive tables.';\n",
              "          element.innerHTML = '';\n",
              "          dataTable['output_type'] = 'display_data';\n",
              "          await google.colab.output.renderOutput(dataTable, element);\n",
              "          const docLink = document.createElement('div');\n",
              "          docLink.innerHTML = docLinkHtml;\n",
              "          element.appendChild(docLink);\n",
              "        }\n",
              "      </script>\n",
              "    </div>\n",
              "  </div>\n",
              "  "
            ]
          },
          "metadata": {},
          "execution_count": 13
        }
      ],
      "source": [
        "df.describe()"
      ]
    },
    {
      "cell_type": "code",
      "execution_count": null,
      "id": "3966a257",
      "metadata": {
        "id": "3966a257",
        "outputId": "8bc141b3-4da8-4f1a-b353-fa9570c53c74",
        "colab": {
          "base_uri": "https://localhost:8080/",
          "height": 212
        }
      },
      "outputs": [
        {
          "output_type": "execute_result",
          "data": {
            "text/plain": [
              "<seaborn.axisgrid.PairGrid at 0x7f3c30e22190>"
            ]
          },
          "metadata": {},
          "execution_count": 14
        },
        {
          "output_type": "display_data",
          "data": {
            "text/plain": [
              "<Figure size 1440x180 with 9 Axes>"
            ],
            "image/png": "[encoded data removed]"
          },
          "metadata": {}
        }
      ],
      "source": [
        "sns.pairplot(data=df,y_vars='fraud')\n",
        "\n",
        "# Mostra a relação da variável dependente com as outras variáveis"
      ]
    },
    {
      "cell_type": "code",
      "execution_count": null,
      "id": "97576f94",
      "metadata": {
        "id": "97576f94",
        "outputId": "a730440f-0f2f-408f-eebf-289a4b968c06",
        "colab": {
          "base_uri": "https://localhost:8080/",
          "height": 340
        }
      },
      "outputs": [
        {
          "output_type": "execute_result",
          "data": {
            "text/plain": [
              "<matplotlib.axes._subplots.AxesSubplot at 0x7f3c30a99d90>"
            ]
          },
          "metadata": {},
          "execution_count": 15
        },
        {
          "output_type": "display_data",
          "data": {
            "text/plain": [
              "<Figure size 1224x360 with 1 Axes>"
            ],
            "image/png": "[encoded data removed]"
          },
          "metadata": {}
        }
      ],
      "source": [
        "fig, ax = plt.subplots(figsize=(17, 5))\n",
        "sns.boxplot(data=df,orient='v',dodge=5)\n",
        "# Valores com muito outliers "
      ]
    },
    {
      "cell_type": "code",
      "execution_count": null,
      "id": "218506a6",
      "metadata": {
        "id": "218506a6",
        "outputId": "ec3f4649-973a-497c-89b3-a6a8f4488f61",
        "colab": {
          "base_uri": "https://localhost:8080/",
          "height": 512
        }
      },
      "outputs": [
        {
          "output_type": "execute_result",
          "data": {
            "text/plain": [
              "<matplotlib.axes._subplots.AxesSubplot at 0x7f3c30a8b650>"
            ]
          },
          "metadata": {},
          "execution_count": 16
        },
        {
          "output_type": "display_data",
          "data": {
            "text/plain": [
              "<Figure size 1224x360 with 2 Axes>"
            ],
            "image/png": "[encoded data removed]"
          },
          "metadata": {}
        }
      ],
      "source": [
        "fig, ax = plt.subplots(figsize=(17, 5))\n",
        "sns.heatmap(df.corr(), annot=True)\n",
        "# Tabela de correlação entre as variáveis "
      ]
    },
    {
      "cell_type": "markdown",
      "id": "d302c6f8",
      "metadata": {
        "id": "d302c6f8"
      },
      "source": [
        "## Pre processamento dos dados"
      ]
    },
    {
      "cell_type": "code",
      "execution_count": null,
      "id": "3e1f3bdb",
      "metadata": {
        "id": "3e1f3bdb"
      },
      "outputs": [],
      "source": [
        "# Selecionar somente o valores\n",
        "array = df.values"
      ]
    },
    {
      "cell_type": "code",
      "execution_count": null,
      "id": "d3112a5f",
      "metadata": {
        "id": "d3112a5f"
      },
      "outputs": [],
      "source": [
        "# Separar os dados em x e y\n",
        "x = array[:,0:7]\n",
        "y = array[:,7]"
      ]
    },
    {
      "cell_type": "code",
      "source": [
        "# chama a função smote\n",
        "smt = SMOTE()"
      ],
      "metadata": {
        "id": "o_ghu3I0dz-3"
      },
      "id": "o_ghu3I0dz-3",
      "execution_count": null,
      "outputs": []
    },
    {
      "cell_type": "code",
      "source": [
        "# Oversampling = Balancear utilizando os registros positvos\n",
        "x,y = smt.fit_resample(x,y)"
      ],
      "metadata": {
        "id": "5XN5xFPtes6-"
      },
      "id": "5XN5xFPtes6-",
      "execution_count": null,
      "outputs": []
    },
    {
      "cell_type": "code",
      "source": [
        "# Novo balanceamento dos dados \n",
        "sns.countplot(y)"
      ],
      "metadata": {
        "colab": {
          "base_uri": "https://localhost:8080/",
          "height": 340
        },
        "id": "5pAa8mTlfWOe",
        "outputId": "3e703258-21fa-42d9-d7b5-17b67eba7f7a"
      },
      "id": "5pAa8mTlfWOe",
      "execution_count": null,
      "outputs": [
        {
          "output_type": "stream",
          "name": "stderr",
          "text": [
            "/usr/local/lib/python3.7/dist-packages/seaborn/_decorators.py:43: FutureWarning: Pass the following variable as a keyword arg: x. From version 0.12, the only valid positional argument will be `data`, and passing other arguments without an explicit keyword will result in an error or misinterpretation.\n",
            "  FutureWarning\n"
          ]
        },
        {
          "output_type": "execute_result",
          "data": {
            "text/plain": [
              "<matplotlib.axes._subplots.AxesSubplot at 0x7f3c30806cd0>"
            ]
          },
          "metadata": {},
          "execution_count": 21
        },
        {
          "output_type": "display_data",
          "data": {
            "text/plain": [
              "<Figure size 432x288 with 1 Axes>"
            ],
            "image/png": "[encoded data removed]"
          },
          "metadata": {}
        }
      ]
    },
    {
      "cell_type": "code",
      "execution_count": null,
      "id": "33f11b21",
      "metadata": {
        "id": "33f11b21"
      },
      "outputs": [],
      "source": [
        "# Normalizar os dados para que tenha comprimento igual a 1\n",
        "normalizar = Normalizer().fit(x)\n",
        "x_2 = normalizar.transform(x)"
      ]
    },
    {
      "cell_type": "code",
      "execution_count": null,
      "id": "c3bff27a",
      "metadata": {
        "id": "c3bff27a",
        "outputId": "09c503f5-7a89-4784-df3c-c3a1fb6788f5",
        "colab": {
          "base_uri": "https://localhost:8080/"
        }
      },
      "outputs": [
        {
          "output_type": "execute_result",
          "data": {
            "text/plain": [
              "array([[0.99912298, 0.00537109, 0.03359201, ..., 0.01726261, 0.        ,\n",
              "        0.        ],\n",
              "       [0.98866079, 0.01602967, 0.11814868, ..., 0.        , 0.        ,\n",
              "        0.        ],\n",
              "       [0.94948625, 0.15016095, 0.07976876, ..., 0.        , 0.        ,\n",
              "        0.18649999],\n",
              "       ...,\n",
              "       [0.99846946, 0.00257196, 0.0527062 , ..., 0.        , 0.        ,\n",
              "        0.01170872],\n",
              "       [0.9996701 , 0.00251153, 0.02249345, ..., 0.        , 0.        ,\n",
              "        0.00858588],\n",
              "       [0.02805191, 0.0295151 , 0.9959839 , ..., 0.05638275, 0.        ,\n",
              "        0.05638275]])"
            ]
          },
          "metadata": {},
          "execution_count": 23
        }
      ],
      "source": [
        "x_2"
      ]
    },
    {
      "cell_type": "code",
      "source": [
        "padronizar = StandardScaler()\n",
        "x_3 = padronizar.fit_transform(x)\n",
        "x_3"
      ],
      "metadata": {
        "colab": {
          "base_uri": "https://localhost:8080/"
        },
        "id": "uPk_lgSIzJd-",
        "outputId": "3e0eea64-1601-4d31-e14c-73287568f19e"
      },
      "id": "uPk_lgSIzJd-",
      "execution_count": null,
      "outputs": [
        {
          "output_type": "execute_result",
          "data": {
            "text/plain": [
              "array([[ 0.13000041, -0.21799579, -0.3727355 , ...,  1.52479964,\n",
              "        -0.24490325, -1.92521108],\n",
              "       [-0.32867575, -0.22160896, -0.51183841, ..., -0.67059273,\n",
              "        -0.24490325, -1.92521108],\n",
              "       [-0.38462466, -0.20482742, -0.69678446, ..., -0.67059273,\n",
              "        -0.24490325,  0.52610859],\n",
              "       ...,\n",
              "       [ 0.39710563, -0.22043422,  0.1727105 , ..., -0.67059273,\n",
              "        -0.24490325,  0.52610859],\n",
              "       [ 0.70085051, -0.21849216, -0.22890353, ..., -0.67059273,\n",
              "        -0.24490325,  0.52610859],\n",
              "       [-0.4294078 , -0.21233574,  2.9822638 , ...,  1.52479964,\n",
              "        -0.24490325,  0.52610859]])"
            ]
          },
          "metadata": {},
          "execution_count": 27
        }
      ]
    },
    {
      "cell_type": "markdown",
      "id": "2b2095b5",
      "metadata": {
        "id": "2b2095b5"
      },
      "source": [
        "# Avaliando a performance do modelos"
      ]
    },
    {
      "cell_type": "code",
      "execution_count": null,
      "id": "fab83c32",
      "metadata": {
        "id": "fab83c32"
      },
      "outputs": [],
      "source": [
        "# Modelos do KNN que o metodo que aprende baseado em instãncias\n",
        "modelo_1 =  KNeighborsClassifier()\n",
        "# Modelo Logit \n",
        "modelo_2 = LogisticRegression()"
      ]
    },
    {
      "cell_type": "code",
      "execution_count": null,
      "id": "3048ab8b",
      "metadata": {
        "id": "3048ab8b"
      },
      "outputs": [],
      "source": [
        "# Numeros de folds\n",
        "num_folds = 5\n",
        "num_instances = len(x_2)\n",
        "seed = 7"
      ]
    },
    {
      "cell_type": "code",
      "execution_count": null,
      "id": "07ab88f1",
      "metadata": {
        "id": "07ab88f1"
      },
      "outputs": [],
      "source": [
        "# definindo o numero de folds\n",
        "kfold = model_selection.KFold(n_splits=num_folds,shuffle=True,random_state=seed)"
      ]
    },
    {
      "cell_type": "code",
      "execution_count": null,
      "id": "c24a6378",
      "metadata": {
        "id": "c24a6378",
        "colab": {
          "base_uri": "https://localhost:8080/"
        },
        "outputId": "1fcfd40b-ec71-46bf-e748-32326dc94e1a"
      },
      "outputs": [
        {
          "output_type": "stream",
          "name": "stdout",
          "text": [
            "0.9916239040299539\n"
          ]
        }
      ],
      "source": [
        "# Criando o modelo\n",
        "resultado_1 = model_selection.cross_val_score(modelo_1, x_2, y, cv = kfold)\n",
        "\n",
        "# Print do resultado do modelo KNN\n",
        "print(resultado_1.mean())"
      ]
    },
    {
      "cell_type": "code",
      "execution_count": null,
      "id": "f56bf517",
      "metadata": {
        "id": "f56bf517",
        "colab": {
          "base_uri": "https://localhost:8080/"
        },
        "outputId": "7083c912-f7dd-4c96-bdfa-d7a6557b59b8"
      },
      "outputs": [
        {
          "output_type": "stream",
          "name": "stdout",
          "text": [
            "0.8636753133897569\n"
          ]
        }
      ],
      "source": [
        "# Criando o modelo\n",
        "resultado_2 = model_selection.cross_val_score(modelo_2, x_2, y, cv = kfold)\n",
        "\n",
        "# Print do resultado Logit\n",
        "print(resultado_2.mean())"
      ]
    },
    {
      "cell_type": "code",
      "source": [
        "# Separando os dados em treino e teste\n",
        "X_train, X_test, y_train, y_test = train_test_split(x_2, y, test_size=0.30, random_state=42)"
      ],
      "metadata": {
        "id": "byZhgP7Oo7rY"
      },
      "id": "byZhgP7Oo7rY",
      "execution_count": null,
      "outputs": []
    },
    {
      "cell_type": "code",
      "source": [
        "# KNN\n",
        "modelo_Knn = modelo_1.fit(X_train,y_train)"
      ],
      "metadata": {
        "id": "zRlV_shYr-f2"
      },
      "id": "zRlV_shYr-f2",
      "execution_count": null,
      "outputs": []
    },
    {
      "cell_type": "code",
      "source": [
        "# KNN\n",
        "previsao = modelo_Knn.predict(X_test)"
      ],
      "metadata": {
        "id": "2UevNsTCsf7H"
      },
      "id": "2UevNsTCsf7H",
      "execution_count": null,
      "outputs": []
    },
    {
      "cell_type": "code",
      "source": [
        "# KNN \n",
        "print(classification_report(y_test,previsao))"
      ],
      "metadata": {
        "colab": {
          "base_uri": "https://localhost:8080/"
        },
        "id": "QTQQAUAbswra",
        "outputId": "3e64e628-1bac-459f-85a2-59f0301636ab"
      },
      "id": "QTQQAUAbswra",
      "execution_count": null,
      "outputs": [
        {
          "output_type": "stream",
          "name": "stdout",
          "text": [
            "              precision    recall  f1-score   support\n",
            "\n",
            "         0.0       1.00      0.98      0.99    273947\n",
            "         1.0       0.98      1.00      0.99    273612\n",
            "\n",
            "    accuracy                           0.99    547559\n",
            "   macro avg       0.99      0.99      0.99    547559\n",
            "weighted avg       0.99      0.99      0.99    547559\n",
            "\n"
          ]
        }
      ]
    },
    {
      "cell_type": "code",
      "source": [
        "# Logit\n",
        "modelo_Logit = modelo_2.fit(X_train,y_train)\n",
        "previsao_2 = modelo_Logit.predict(X_test)"
      ],
      "metadata": {
        "id": "ucL2XtaGtBc2"
      },
      "id": "ucL2XtaGtBc2",
      "execution_count": null,
      "outputs": []
    },
    {
      "cell_type": "code",
      "source": [
        "# Logit\n",
        "print(classification_report(y_test,previsao_2))"
      ],
      "metadata": {
        "colab": {
          "base_uri": "https://localhost:8080/"
        },
        "id": "ye3BsG6CuEl0",
        "outputId": "b2921612-2ae5-4c9b-8aac-027bc34cb469"
      },
      "id": "ye3BsG6CuEl0",
      "execution_count": null,
      "outputs": [
        {
          "output_type": "stream",
          "name": "stdout",
          "text": [
            "              precision    recall  f1-score   support\n",
            "\n",
            "         0.0       0.93      0.79      0.85    273947\n",
            "         1.0       0.81      0.94      0.87    273612\n",
            "\n",
            "    accuracy                           0.86    547559\n",
            "   macro avg       0.87      0.86      0.86    547559\n",
            "weighted avg       0.87      0.86      0.86    547559\n",
            "\n"
          ]
        }
      ]
    },
    {
      "cell_type": "code",
      "source": [
        "# Separando os dados em treino e teste com dados padronizados que o modelo logit espera receber\n",
        "X_train_p, X_test_p, y_train_p, y_test_p = train_test_split(x_3, y, test_size=0.30, random_state=42)"
      ],
      "metadata": {
        "id": "FJ9mDldAvf4f"
      },
      "id": "FJ9mDldAvf4f",
      "execution_count": null,
      "outputs": []
    },
    {
      "cell_type": "code",
      "source": [
        "modelo_Logit_p = modelo_2.fit(X_train_p,y_train_p)\n",
        "previsao_3 = modelo_Logit_p.predict(X_test_p)"
      ],
      "metadata": {
        "id": "k39cnqw41UMX"
      },
      "id": "k39cnqw41UMX",
      "execution_count": null,
      "outputs": []
    },
    {
      "cell_type": "code",
      "source": [
        "# Logit\n",
        "print(classification_report(y_test_p,previsao_3))"
      ],
      "metadata": {
        "colab": {
          "base_uri": "https://localhost:8080/"
        },
        "id": "7kBWeHTi2jrI",
        "outputId": "a4e82a8e-8fc4-4f74-bafb-4b670e3e41e8"
      },
      "id": "7kBWeHTi2jrI",
      "execution_count": null,
      "outputs": [
        {
          "output_type": "stream",
          "name": "stdout",
          "text": [
            "              precision    recall  f1-score   support\n",
            "\n",
            "         0.0       0.95      0.93      0.94    273947\n",
            "         1.0       0.93      0.95      0.94    273612\n",
            "\n",
            "    accuracy                           0.94    547559\n",
            "   macro avg       0.94      0.94      0.94    547559\n",
            "weighted avg       0.94      0.94      0.94    547559\n",
            "\n"
          ]
        }
      ]
    },
    {
      "cell_type": "code",
      "source": [
        ""
      ],
      "metadata": {
        "id": "SuvF3jWt9X9Y"
      },
      "id": "SuvF3jWt9X9Y",
      "execution_count": null,
      "outputs": []
    }
  ],
  "metadata": {
    "kernelspec": {
      "display_name": "Python 3 (ipykernel)",
      "language": "python",
      "name": "python3"
    },
    "language_info": {
      "codemirror_mode": {
        "name": "ipython",
        "version": 3
      },
      "file_extension": ".py",
      "mimetype": "text/x-python",
      "name": "python",
      "nbconvert_exporter": "python",
      "pygments_lexer": "ipython3",
      "version": "3.9.7"
    },
    "colab": {
      "name": "Projetos de classificação.ipynb",
      "provenance": [],
      "collapsed_sections": [],
      "include_colab_link": true
    }
  },
  "nbformat": 4,
  "nbformat_minor": 5
}